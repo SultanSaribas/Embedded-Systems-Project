{
  "nbformat": 4,
  "nbformat_minor": 0,
  "metadata": {
    "colab": {
      "provenance": [],
      "authorship_tag": "ABX9TyP4QbJrBEtUUZUNd2In+4f6",
      "include_colab_link": true
    },
    "kernelspec": {
      "name": "python3",
      "display_name": "Python 3"
    },
    "language_info": {
      "name": "python"
    }
  },
  "cells": [
    {
      "cell_type": "markdown",
      "metadata": {
        "id": "view-in-github",
        "colab_type": "text"
      },
      "source": [
        "<a href=\"https://colab.research.google.com/github/SultanSaribas/Embedded-Systems-Project/blob/master/Untitled4.ipynb\" target=\"_parent\"><img src=\"https://colab.research.google.com/assets/colab-badge.svg\" alt=\"Open In Colab\"/></a>"
      ]
    },
    {
      "cell_type": "code",
      "execution_count": 9,
      "metadata": {
        "id": "fQOGYrzdHVMb"
      },
      "outputs": [],
      "source": [
        "import matplotlib.pyplot as plt\n",
        "import librosa\n",
        "import librosa.display\n",
        "import numpy as np\n",
        "import pandas as pd\n",
        "from google.colab.patches import cv2_imshow\n",
        "import os\n",
        "import cv2\n",
        "import IPython.display as ipd\n",
        "from IPython.display import clear_output\n",
        "%matplotlib inline"
      ]
    },
    {
      "cell_type": "code",
      "source": [
        "from google.colab import drive\n",
        "drive.mount('/content/drive')"
      ],
      "metadata": {
        "id": "MaOpl7yQJRfH"
      },
      "execution_count": null,
      "outputs": []
    },
    {
      "cell_type": "code",
      "source": [
        "rooth_path=\"https://drive.google.com/drive/folders/1xey3vAVNDjWxnSfhuUsf_5dGANZWmCog\""
      ],
      "metadata": {
        "id": "dCxwmIH0HZNv"
      },
      "execution_count": 2,
      "outputs": []
    },
    {
      "cell_type": "code",
      "source": [
        "data =cv2.imread(os.path.join(rooth_path,\"1/2937-1-0-0.png\"), 0)"
      ],
      "metadata": {
        "id": "uCMOlyFqHqPu"
      },
      "execution_count": 4,
      "outputs": []
    },
    {
      "cell_type": "code",
      "source": [
        "print(os.path.join(rooth_path,\"1/2937-1-0-0.png\"))"
      ],
      "metadata": {
        "colab": {
          "base_uri": "https://localhost:8080/"
        },
        "id": "H6DcannzH6mI",
        "outputId": "9f2ab608-8bdb-4096-ee5a-5e363588363c"
      },
      "execution_count": 15,
      "outputs": [
        {
          "output_type": "stream",
          "name": "stdout",
          "text": [
            "https://drive.google.com/drive/folders/1xey3vAVNDjWxnSfhuUsf_5dGANZWmCog/1/2937-1-0-0.png\n"
          ]
        }
      ]
    },
    {
      "cell_type": "code",
      "source": [
        "extracted_features =[]\n",
        "for root, directories, files in os.walk(root_path):\n",
        "    for file_name in files:\n",
        "        if root is not root_path and file_name.endswith('.png'):\n",
        "           data = img = cv2.imread(os.path.join(root,file_name), 0)\n",
        "           isplitted = file_name.split(\"-\")\n",
        "           extracted_features.append([data,isplitted[1]])"
      ],
      "metadata": {
        "id": "Y9gKRJkXHjwy"
      },
      "execution_count": null,
      "outputs": []
    }
  ]
}